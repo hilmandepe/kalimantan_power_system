{
 "cells": [
  {
   "cell_type": "code",
   "execution_count": 1,
   "id": "c6761cc2",
   "metadata": {},
   "outputs": [],
   "source": [
    "import os\n",
    "import pypsa\n",
    "import geopandas as gpd\n",
    "import pandas as pd\n",
    "import numpy as np\n",
    "from numpy import genfromtxt\n",
    "import matplotlib.pyplot as plt\n",
    "import cartopy.crs as ccrs\n",
    "import cartopy\n",
    "import networkx as nx\n",
    "from geovoronoi import points_to_coords\n",
    "from mpl_toolkits.axes_grid1.inset_locator import inset_axes"
   ]
  },
  {
   "cell_type": "code",
   "execution_count": 16,
   "id": "afe4fb08",
   "metadata": {},
   "outputs": [],
   "source": [
    "# Load demand data\n",
    "load = genfromtxt('database/input_data/loads_kalimantan.csv', delimiter=',')\n",
    "# Load dataframe with total demand and corresponding week of the year\n",
    "df = pd.read_csv(r'database/input_data/df_kalimantan.csv', index_col=[0])\n",
    "# Load coordinates of equivalent electrical buses\n",
    "buses = pd.read_csv(r'database/input_data/buses_kalimantan.csv', index_col=[0])\n",
    "# Load data of the transmission lines\n",
    "links= pd.read_csv(r'database/input_data/links_kalimantan.csv', index_col=[0])\n",
    "# Load generator data\n",
    "generators = pd.read_csv(r'database/input_data/generators_kalimantan.csv', index_col=[0])\n",
    "# Load solar time series data\n",
    "solar = pd.read_csv(r'database/input_data/solar_kalimantan.csv', index_col=[0])\n",
    "# Load carbon emission data per carrier\n",
    "carrier = pd.read_csv(r'database/input_data/carriers_kalimantan.csv', index_col=[0])\n",
    "# Load onshore wind time series data\n",
    "wind_os = pd.read_csv(r'database/input_data/windons_kalimantan.csv', index_col=[0])\n",
    "# Load offshore wind time series data\n",
    "wind_offs = pd.read_csv(r'database/input_data/windoffs_kalimantan.csv', index_col=[0])"
   ]
  },
  {
   "cell_type": "code",
   "execution_count": 17,
   "id": "bae6375d",
   "metadata": {},
   "outputs": [],
   "source": [
    "# Set all capacities to zero        \n",
    "generators.p_nom = 0"
   ]
  },
  {
   "cell_type": "code",
   "execution_count": 22,
   "id": "6e3cbce0",
   "metadata": {},
   "outputs": [],
   "source": [
    "\"\"\"Define start and end timestep and modify capital cost accordingly\"\"\"\n",
    "# start and end timestep (can be modified for testruns)\n",
    "time_start = 0\n",
    "time_end = 23\n",
    "#time_end = len(load)\n",
    "#now = 19\n",
    "load_short = load[time_start:time_end]/(1e6)"
   ]
  },
  {
   "cell_type": "code",
   "execution_count": 19,
   "id": "4b75a2f3",
   "metadata": {},
   "outputs": [],
   "source": [
    "# Capital cost of transmission lines\n",
    "line_learning = 0.613e3"
   ]
  },
  {
   "cell_type": "code",
   "execution_count": 20,
   "id": "e10f71d9",
   "metadata": {},
   "outputs": [],
   "source": [
    "# Calculate total system carbon emissions 2018 (multiply by 4.11, which is the demand growth with the total production in 2018 reported by PLN)\n",
    "carbon_emissions = ((100.5251e6)*(101/0.38*3.6) + ((16.0537e6)*(56/0.56*3.6)) + ((0.8754e6) *(74/0.48*3.6)))/1e3*4.11 "
   ]
  },
  {
   "cell_type": "code",
   "execution_count": 23,
   "id": "14741b33",
   "metadata": {},
   "outputs": [
    {
     "name": "stderr",
     "output_type": "stream",
     "text": [
      "WARNING:pypsa.io:The following Generator have buses which are not defined:\n",
      "Index(['PLTBg_Maju_Aneka_Sawit', 'PLTBg_Rea_Kaltim', 'PLTBg_Suka_Damai',\n",
      "       'PLTBg_Sukajadi_Sawit_Mekar', 'PLTBg_Unggul_Lestari',\n",
      "       'PLTBm_Gunung_Sari_HHM', 'PLTBm_Karangan_DL', 'PLTBm_Korintiga_Hutani',\n",
      "       'PLTBm_Kotawaringin_Barat', 'PLTBm_PT._Rezeki',\n",
      "       ...\n",
      "       'PLTS_Kayan_Hulu_ESDM', 'PLTS_Lumbis_Ogong_ESDM', 'PLTS_Pulau_Limbung',\n",
      "       'PLTS_Sebatik', 'PLTS_Sebatik_ESDM', 'PLTS_Sebuku_ESDM',\n",
      "       'PLTS_Seimenggaris_ESDM', 'PLTS_Sidding', 'PLTS_Temajuk',\n",
      "       'PLTS_Tulin_Onsoi_ESDM'],\n",
      "      dtype='object', length=409)\n",
      "ERROR:pypsa.io:Error, new components for Generator are not unique\n",
      "WARNING:pypsa.io:The following Line have buses which are not defined:\n",
      "Index(['0', '1', '3', '1', '4', '5', '5', '7', '7', '9', '10', '11', '11',\n",
      "       '13', '15', '14', '16', '17', '18', '19', '20', '21', '22', '23', '24',\n",
      "       '25', '26', '25', '29', '24', '30', '28', '31', '22', '33', '32', '32',\n",
      "       '35', '36', '37', '35', '39', '40', '40', '42', '43', '44', '45', '46',\n",
      "       '46', '45', '49', '50', '51', '52', '49', '54', '54', '56', '57', '58',\n",
      "       '60', '62', '62', '63'],\n",
      "      dtype='object', name='bus0')\n",
      "WARNING:pypsa.io:The following Line have buses which are not defined:\n",
      "Index(['0', '1', '3', '1', '4', '5', '5', '7', '7', '9', '10', '11', '11',\n",
      "       '13', '15', '14', '16', '17', '18', '19', '20', '21', '22', '23', '24',\n",
      "       '25', '26', '25', '29', '24', '30', '28', '31', '22', '33', '32', '32',\n",
      "       '35', '36', '37', '35', '39', '40', '40', '42', '43', '44', '45', '46',\n",
      "       '46', '45', '49', '50', '51', '52', '49', '54', '54', '56', '57', '58',\n",
      "       '60', '62', '62', '63'],\n",
      "      dtype='object', name='bus0')\n",
      "ERROR:pypsa.io:Error, new components for Line are not unique\n",
      "WARNING:pypsa.io:Components Index(['PLTS_Kayan_Hulu_ESDM', 'PLTS_Lumbis_Ogong_ESDM', 'PLTS_Pulau_Limbung',\n",
      "       'PLTS_Sebatik', 'PLTS_Sebatik_ESDM', 'PLTS_Sebuku_ESDM',\n",
      "       'PLTS_Seimenggaris_ESDM', 'PLTS_Sidding', 'PLTS_Temajuk',\n",
      "       'PLTS_Tulin_Onsoi_ESDM', 'PLTB_01', 'PLTB_02'],\n",
      "      dtype='object', name='Generator') for attribute p_max_pu of Generator are not in main components dataframe generators\n",
      "WARNING:pypsa.io:Snapshots Index(['now'], dtype='object', name='snapshot') are missing from p_max_pu of Generator. Filling with default value '1.0'\n",
      "INFO:pypsa.opf:Performed preliminary steps\n",
      "INFO:pypsa.opf:Building pyomo model using `kirchhoff` formulation\n"
     ]
    },
    {
     "ename": "RuntimeError",
     "evalue": "Fatal error: cannot find the component data in the owning component's _data dictionary.",
     "output_type": "error",
     "traceback": [
      "\u001b[1;31m---------------------------------------------------------------------------\u001b[0m",
      "\u001b[1;31mRuntimeError\u001b[0m                              Traceback (most recent call last)",
      "\u001b[1;32m~\\AppData\\Local\\Temp/ipykernel_10652/2340106831.py\u001b[0m in \u001b[0;36m<module>\u001b[1;34m\u001b[0m\n\u001b[0;32m     51\u001b[0m \u001b[1;33m\u001b[0m\u001b[0m\n\u001b[0;32m     52\u001b[0m     \u001b[1;31m# Optimize the system, need to have a gurobi license installed\u001b[0m\u001b[1;33m\u001b[0m\u001b[1;33m\u001b[0m\u001b[1;33m\u001b[0m\u001b[0m\n\u001b[1;32m---> 53\u001b[1;33m     \u001b[0mcontainer\u001b[0m\u001b[1;33m[\u001b[0m\u001b[0mi\u001b[0m\u001b[1;33m]\u001b[0m\u001b[1;33m.\u001b[0m\u001b[0mlopf\u001b[0m\u001b[1;33m(\u001b[0m\u001b[0msolver_name\u001b[0m\u001b[1;33m=\u001b[0m\u001b[1;34m\"glpk\"\u001b[0m\u001b[1;33m,\u001b[0m \u001b[0msolver_io\u001b[0m\u001b[1;33m=\u001b[0m\u001b[1;34m'python'\u001b[0m\u001b[1;33m)\u001b[0m\u001b[1;33m\u001b[0m\u001b[1;33m\u001b[0m\u001b[0m\n\u001b[0m\u001b[0;32m     54\u001b[0m \u001b[1;33m\u001b[0m\u001b[0m\n\u001b[0;32m     55\u001b[0m     \u001b[1;31m# Print cost results\u001b[0m\u001b[1;33m\u001b[0m\u001b[1;33m\u001b[0m\u001b[1;33m\u001b[0m\u001b[0m\n",
      "\u001b[1;32m~\\anaconda3\\envs\\PyPSA_Kalimantan\\lib\\site-packages\\pypsa\\components.py\u001b[0m in \u001b[0;36mlopf\u001b[1;34m(self, snapshots, pyomo, solver_name, solver_options, solver_logfile, formulation, keep_files, extra_functionality, multi_investment_periods, **kwargs)\u001b[0m\n\u001b[0;32m    656\u001b[0m \u001b[1;33m\u001b[0m\u001b[0m\n\u001b[0;32m    657\u001b[0m         \u001b[1;32mif\u001b[0m \u001b[0mpyomo\u001b[0m\u001b[1;33m:\u001b[0m\u001b[1;33m\u001b[0m\u001b[1;33m\u001b[0m\u001b[0m\n\u001b[1;32m--> 658\u001b[1;33m             \u001b[1;32mreturn\u001b[0m \u001b[0mnetwork_lopf\u001b[0m\u001b[1;33m(\u001b[0m\u001b[0mself\u001b[0m\u001b[1;33m,\u001b[0m \u001b[1;33m**\u001b[0m\u001b[0margs\u001b[0m\u001b[1;33m)\u001b[0m\u001b[1;33m\u001b[0m\u001b[1;33m\u001b[0m\u001b[0m\n\u001b[0m\u001b[0;32m    659\u001b[0m         \u001b[1;32melse\u001b[0m\u001b[1;33m:\u001b[0m\u001b[1;33m\u001b[0m\u001b[1;33m\u001b[0m\u001b[0m\n\u001b[0;32m    660\u001b[0m             \u001b[1;32mreturn\u001b[0m \u001b[0mnetwork_lopf_lowmem\u001b[0m\u001b[1;33m(\u001b[0m\u001b[0mself\u001b[0m\u001b[1;33m,\u001b[0m \u001b[1;33m**\u001b[0m\u001b[0margs\u001b[0m\u001b[1;33m)\u001b[0m\u001b[1;33m\u001b[0m\u001b[1;33m\u001b[0m\u001b[0m\n",
      "\u001b[1;32m~\\anaconda3\\envs\\PyPSA_Kalimantan\\lib\\site-packages\\pypsa\\opf.py\u001b[0m in \u001b[0;36mnetwork_lopf\u001b[1;34m(network, snapshots, solver_name, solver_io, skip_pre, extra_functionality, multi_investment_periods, solver_logfile, solver_options, keep_files, formulation, ptdf_tolerance, free_memory, extra_postprocessing)\u001b[0m\n\u001b[0;32m   1661\u001b[0m     \u001b[0msnapshots\u001b[0m \u001b[1;33m=\u001b[0m \u001b[0m_as_snapshots\u001b[0m\u001b[1;33m(\u001b[0m\u001b[0mnetwork\u001b[0m\u001b[1;33m,\u001b[0m \u001b[0msnapshots\u001b[0m\u001b[1;33m)\u001b[0m\u001b[1;33m\u001b[0m\u001b[1;33m\u001b[0m\u001b[0m\n\u001b[0;32m   1662\u001b[0m \u001b[1;33m\u001b[0m\u001b[0m\n\u001b[1;32m-> 1663\u001b[1;33m     network_lopf_build_model(network, snapshots, skip_pre=skip_pre,\n\u001b[0m\u001b[0;32m   1664\u001b[0m                              formulation=formulation, ptdf_tolerance=ptdf_tolerance)\n\u001b[0;32m   1665\u001b[0m \u001b[1;33m\u001b[0m\u001b[0m\n",
      "\u001b[1;32m~\\anaconda3\\envs\\PyPSA_Kalimantan\\lib\\site-packages\\pypsa\\opf.py\u001b[0m in \u001b[0;36mnetwork_lopf_build_model\u001b[1;34m(network, snapshots, skip_pre, formulation, ptdf_tolerance)\u001b[0m\n\u001b[0;32m   1474\u001b[0m \u001b[1;33m\u001b[0m\u001b[0m\n\u001b[0;32m   1475\u001b[0m     \u001b[1;32mif\u001b[0m \u001b[0mformulation\u001b[0m \u001b[1;32min\u001b[0m \u001b[1;33m[\u001b[0m\u001b[1;34m\"angles\"\u001b[0m\u001b[1;33m,\u001b[0m \u001b[1;34m\"kirchhoff\"\u001b[0m\u001b[1;33m]\u001b[0m\u001b[1;33m:\u001b[0m\u001b[1;33m\u001b[0m\u001b[1;33m\u001b[0m\u001b[0m\n\u001b[1;32m-> 1476\u001b[1;33m         \u001b[0mdefine_nodal_balance_constraints\u001b[0m\u001b[1;33m(\u001b[0m\u001b[0mnetwork\u001b[0m\u001b[1;33m,\u001b[0m\u001b[0msnapshots\u001b[0m\u001b[1;33m)\u001b[0m\u001b[1;33m\u001b[0m\u001b[1;33m\u001b[0m\u001b[0m\n\u001b[0m\u001b[0;32m   1477\u001b[0m     \u001b[1;32melif\u001b[0m \u001b[0mformulation\u001b[0m \u001b[1;32min\u001b[0m \u001b[1;33m[\u001b[0m\u001b[1;34m\"ptdf\"\u001b[0m\u001b[1;33m,\u001b[0m \u001b[1;34m\"cycles\"\u001b[0m\u001b[1;33m]\u001b[0m\u001b[1;33m:\u001b[0m\u001b[1;33m\u001b[0m\u001b[1;33m\u001b[0m\u001b[0m\n\u001b[0;32m   1478\u001b[0m         \u001b[0mdefine_sub_network_balance_constraints\u001b[0m\u001b[1;33m(\u001b[0m\u001b[0mnetwork\u001b[0m\u001b[1;33m,\u001b[0m\u001b[0msnapshots\u001b[0m\u001b[1;33m)\u001b[0m\u001b[1;33m\u001b[0m\u001b[1;33m\u001b[0m\u001b[0m\n",
      "\u001b[1;32m~\\anaconda3\\envs\\PyPSA_Kalimantan\\lib\\site-packages\\pypsa\\opf.py\u001b[0m in \u001b[0;36mdefine_nodal_balance_constraints\u001b[1;34m(network, snapshots)\u001b[0m\n\u001b[0;32m   1064\u001b[0m     \u001b[0mpower_balance\u001b[0m \u001b[1;33m=\u001b[0m \u001b[1;33m{\u001b[0m\u001b[0mk\u001b[0m\u001b[1;33m:\u001b[0m \u001b[0mLConstraint\u001b[0m\u001b[1;33m(\u001b[0m\u001b[0mv\u001b[0m\u001b[1;33m,\u001b[0m\u001b[1;34m\"==\"\u001b[0m\u001b[1;33m,\u001b[0m\u001b[0mLExpression\u001b[0m\u001b[1;33m(\u001b[0m\u001b[1;33m)\u001b[0m\u001b[1;33m)\u001b[0m \u001b[1;32mfor\u001b[0m \u001b[0mk\u001b[0m\u001b[1;33m,\u001b[0m\u001b[0mv\u001b[0m \u001b[1;32min\u001b[0m \u001b[0mnetwork\u001b[0m\u001b[1;33m.\u001b[0m\u001b[0m_p_balance\u001b[0m\u001b[1;33m.\u001b[0m\u001b[0mitems\u001b[0m\u001b[1;33m(\u001b[0m\u001b[1;33m)\u001b[0m\u001b[1;33m}\u001b[0m\u001b[1;33m\u001b[0m\u001b[1;33m\u001b[0m\u001b[0m\n\u001b[0;32m   1065\u001b[0m \u001b[1;33m\u001b[0m\u001b[0m\n\u001b[1;32m-> 1066\u001b[1;33m     l_constraint(network.model, \"power_balance\", power_balance,\n\u001b[0m\u001b[0;32m   1067\u001b[0m                  list(network.buses.index), snapshots)\n\u001b[0;32m   1068\u001b[0m \u001b[1;33m\u001b[0m\u001b[0m\n",
      "\u001b[1;32m~\\anaconda3\\envs\\PyPSA_Kalimantan\\lib\\site-packages\\pypsa\\opt.py\u001b[0m in \u001b[0;36ml_constraint\u001b[1;34m(model, name, constraints, *args)\u001b[0m\n\u001b[0;32m    206\u001b[0m             \u001b[1;32mraise\u001b[0m \u001b[0mKeyError\u001b[0m\u001b[1;33m(\u001b[0m\u001b[1;34m'`sense` must be one of \"==\",\"<=\",\">=\",\"><\"; got: {}'\u001b[0m\u001b[1;33m.\u001b[0m\u001b[0mformat\u001b[0m\u001b[1;33m(\u001b[0m\u001b[0msense\u001b[0m\u001b[1;33m)\u001b[0m\u001b[1;33m)\u001b[0m\u001b[1;33m\u001b[0m\u001b[1;33m\u001b[0m\u001b[0m\n\u001b[0;32m    207\u001b[0m \u001b[1;33m\u001b[0m\u001b[0m\n\u001b[1;32m--> 208\u001b[1;33m         \u001b[0mv\u001b[0m\u001b[1;33m.\u001b[0m\u001b[0m_data\u001b[0m\u001b[1;33m[\u001b[0m\u001b[0mi\u001b[0m\u001b[1;33m]\u001b[0m \u001b[1;33m=\u001b[0m \u001b[0m_GeneralConstraintData\u001b[0m\u001b[1;33m(\u001b[0m\u001b[0mconstr_expr\u001b[0m\u001b[1;33m,\u001b[0m \u001b[0mv\u001b[0m\u001b[1;33m)\u001b[0m\u001b[1;33m\u001b[0m\u001b[1;33m\u001b[0m\u001b[0m\n\u001b[0m\u001b[0;32m    209\u001b[0m \u001b[1;33m\u001b[0m\u001b[0m\n\u001b[0;32m    210\u001b[0m \u001b[1;33m\u001b[0m\u001b[0m\n",
      "\u001b[1;32m~\\anaconda3\\envs\\PyPSA_Kalimantan\\lib\\site-packages\\pyomo\\core\\base\\constraint.py\u001b[0m in \u001b[0;36m__init__\u001b[1;34m(self, expr, component)\u001b[0m\n\u001b[0;32m    291\u001b[0m         \u001b[0mself\u001b[0m\u001b[1;33m.\u001b[0m\u001b[0m_expr\u001b[0m \u001b[1;33m=\u001b[0m \u001b[1;32mNone\u001b[0m\u001b[1;33m\u001b[0m\u001b[1;33m\u001b[0m\u001b[0m\n\u001b[0;32m    292\u001b[0m         \u001b[1;32mif\u001b[0m \u001b[0mexpr\u001b[0m \u001b[1;32mis\u001b[0m \u001b[1;32mnot\u001b[0m \u001b[1;32mNone\u001b[0m\u001b[1;33m:\u001b[0m\u001b[1;33m\u001b[0m\u001b[1;33m\u001b[0m\u001b[0m\n\u001b[1;32m--> 293\u001b[1;33m             \u001b[0mself\u001b[0m\u001b[1;33m.\u001b[0m\u001b[0mset_value\u001b[0m\u001b[1;33m(\u001b[0m\u001b[0mexpr\u001b[0m\u001b[1;33m)\u001b[0m\u001b[1;33m\u001b[0m\u001b[1;33m\u001b[0m\u001b[0m\n\u001b[0m\u001b[0;32m    294\u001b[0m \u001b[1;33m\u001b[0m\u001b[0m\n\u001b[0;32m    295\u001b[0m     \u001b[1;32mdef\u001b[0m \u001b[0m__getstate__\u001b[0m\u001b[1;33m(\u001b[0m\u001b[0mself\u001b[0m\u001b[1;33m)\u001b[0m\u001b[1;33m:\u001b[0m\u001b[1;33m\u001b[0m\u001b[1;33m\u001b[0m\u001b[0m\n",
      "\u001b[1;32m~\\anaconda3\\envs\\PyPSA_Kalimantan\\lib\\site-packages\\pyomo\\core\\base\\constraint.py\u001b[0m in \u001b[0;36mset_value\u001b[1;34m(self, expr)\u001b[0m\n\u001b[0;32m    540\u001b[0m                    \u001b[1;34m\"\\n   sum(model.costs) == model.income\"\u001b[0m\u001b[1;33m\u001b[0m\u001b[1;33m\u001b[0m\u001b[0m\n\u001b[0;32m    541\u001b[0m                    \u001b[1;34m\"\\n   (0, model.price[item], 50)\"\u001b[0m\u001b[1;33m\u001b[0m\u001b[1;33m\u001b[0m\u001b[0m\n\u001b[1;32m--> 542\u001b[1;33m                    % (self.name, str(expr)))\n\u001b[0m\u001b[0;32m    543\u001b[0m             \u001b[1;32mraise\u001b[0m \u001b[0mValueError\u001b[0m\u001b[1;33m(\u001b[0m\u001b[0mmsg\u001b[0m\u001b[1;33m)\u001b[0m\u001b[1;33m\u001b[0m\u001b[1;33m\u001b[0m\u001b[0m\n\u001b[0;32m    544\u001b[0m         \u001b[1;31m#\u001b[0m\u001b[1;33m\u001b[0m\u001b[1;33m\u001b[0m\u001b[1;33m\u001b[0m\u001b[0m\n",
      "\u001b[1;32m~\\anaconda3\\envs\\PyPSA_Kalimantan\\lib\\site-packages\\pyomo\\core\\base\\component.py\u001b[0m in \u001b[0;36mname\u001b[1;34m(self)\u001b[0m\n\u001b[0;32m    275\u001b[0m     \u001b[1;32mdef\u001b[0m \u001b[0mname\u001b[0m\u001b[1;33m(\u001b[0m\u001b[0mself\u001b[0m\u001b[1;33m)\u001b[0m\u001b[1;33m:\u001b[0m\u001b[1;33m\u001b[0m\u001b[1;33m\u001b[0m\u001b[0m\n\u001b[0;32m    276\u001b[0m         \u001b[1;34m\"\"\"Get the fully qualifed component name.\"\"\"\u001b[0m\u001b[1;33m\u001b[0m\u001b[1;33m\u001b[0m\u001b[0m\n\u001b[1;32m--> 277\u001b[1;33m         \u001b[1;32mreturn\u001b[0m \u001b[0mself\u001b[0m\u001b[1;33m.\u001b[0m\u001b[0mgetname\u001b[0m\u001b[1;33m(\u001b[0m\u001b[0mfully_qualified\u001b[0m\u001b[1;33m=\u001b[0m\u001b[1;32mTrue\u001b[0m\u001b[1;33m)\u001b[0m\u001b[1;33m\u001b[0m\u001b[1;33m\u001b[0m\u001b[0m\n\u001b[0m\u001b[0;32m    278\u001b[0m \u001b[1;33m\u001b[0m\u001b[0m\n\u001b[0;32m    279\u001b[0m     \u001b[1;31m# Adding a setter here to help users adapt to the new\u001b[0m\u001b[1;33m\u001b[0m\u001b[1;33m\u001b[0m\u001b[1;33m\u001b[0m\u001b[0m\n",
      "\u001b[1;32m~\\anaconda3\\envs\\PyPSA_Kalimantan\\lib\\site-packages\\pyomo\\core\\base\\component.py\u001b[0m in \u001b[0;36mgetname\u001b[1;34m(self, fully_qualified, name_buffer, relative_to)\u001b[0m\n\u001b[0;32m    898\u001b[0m                     \u001b[1;32mreturn\u001b[0m \u001b[0mbase\u001b[0m \u001b[1;33m+\u001b[0m \u001b[0mindex_repr\u001b[0m\u001b[1;33m(\u001b[0m\u001b[0midx\u001b[0m\u001b[1;33m)\u001b[0m\u001b[1;33m\u001b[0m\u001b[1;33m\u001b[0m\u001b[0m\n\u001b[0;32m    899\u001b[0m         \u001b[1;31m#\u001b[0m\u001b[1;33m\u001b[0m\u001b[1;33m\u001b[0m\u001b[1;33m\u001b[0m\u001b[0m\n\u001b[1;32m--> 900\u001b[1;33m         raise RuntimeError(\"Fatal error: cannot find the component data in \"\n\u001b[0m\u001b[0;32m    901\u001b[0m                            \"the owning component's _data dictionary.\")\n\u001b[0;32m    902\u001b[0m \u001b[1;33m\u001b[0m\u001b[0m\n",
      "\u001b[1;31mRuntimeError\u001b[0m: Fatal error: cannot find the component data in the owning component's _data dictionary."
     ]
    }
   ],
   "source": [
    "\"\"\"Create scenarios and run model\"\"\"\n",
    "parametersweep = [0.8, 0.6]\n",
    "scenarios=[]\n",
    "for i in parametersweep:\n",
    "    scenarios.append(carbon_emissions*i)\n",
    "\n",
    "container = []\n",
    "for i in range(len(scenarios)):\n",
    "    # Create network\n",
    "    container.append(pypsa.Network()) \n",
    "    \n",
    "    # Import components\n",
    "    container[i].import_components_from_dataframe(buses,\"Bus\")\n",
    "    container[i].import_components_from_dataframe(generators,\"Generator\")\n",
    "    container[i].import_components_from_dataframe(links, \"Line\")\n",
    "    #container[i].import_components_from_dataframe(storage, \"StorageUnit\")\n",
    "    container[i].import_components_from_dataframe(carrier, \"Carrier\")\n",
    "    container[i].add(\"GlobalConstraint\", \"CO2Limit\", carrier_attribute=\"co2_emissions\", \n",
    "                     sense=\"<=\", constant=scenarios[i]/2920*time_end)\n",
    "\n",
    "    # Adapt time series (if not an entire year)\n",
    "    wind_short = wind_os.iloc[time_start:time_end]\n",
    "    wind_short = wind_short.reset_index(drop=True)\n",
    "    wind_offs_short = wind_offs.iloc[time_start:time_end]\n",
    "    wind_offs_short = wind_offs_short.reset_index(drop=True)\n",
    "    solar_short = solar.iloc[time_start:time_end]\n",
    "    solar_short = solar_short.reset_index(drop=True)\n",
    "    timeseries = pd.merge(solar_short, wind_short, left_index=True, right_index=True, how=\"outer\")\n",
    "    timeseries = pd.merge(timeseries, wind_offs_short, left_index=True, right_index=True, how=\"outer\")\n",
    "    \n",
    "    # Import timeseries\n",
    "    container[i].import_series_from_dataframe(timeseries,\"Generator\",\"p_max_pu\")\n",
    "    container[i].generators_t.p_max_pu = timeseries\n",
    "    \n",
    "    # Set snapshots (timesteps)\n",
    "    snapshots = range(len(load))\n",
    "    snapshots1 = range(len(load_short))\n",
    "    container[i].set_snapshots(snapshots1)\n",
    "    \n",
    "    # Set aggregation of timeseries by adding weight (uncomment for hourly timesteps)\n",
    "    container[i].snapshot_weightings[:] = 3\n",
    "    \n",
    "    # Set limits for capacities transmission lines and N-1 factor\n",
    "    container[i].lines.s_nom_extendable = True\n",
    "    container[i].lines.s_nom_min = container[i].lines.s_nom\n",
    "    contingency_factor = 0.7\n",
    "    container[i].lines.s_max_pu = contingency_factor\n",
    "    \n",
    "    # Add load to network\n",
    "    container[i].madd(\"Load\", \"Load \" + container[i].buses.index, bus=buses.index, p_set=load_short)\n",
    "    \n",
    "    # Optimize the system, need to have a gurobi license installed \n",
    "    container[i].lopf(solver_name=\"glpk\", solver_io='python')\n",
    "    \n",
    "    # Print cost results\n",
    "    tot_sys = container[i].objective/(container[i].generators_t.p.sum().sum()*3)\n",
    "    print(\"Objective:\", container[i].objective, \"$\")\n",
    "    print(\"Average System Cost:\", tot_sys, \"$/MWh\")"
   ]
  },
  {
   "cell_type": "code",
   "execution_count": null,
   "id": "69235d1d",
   "metadata": {},
   "outputs": [],
   "source": []
  }
 ],
 "metadata": {
  "kernelspec": {
   "display_name": "Python 3 (ipykernel)",
   "language": "python",
   "name": "python3"
  },
  "language_info": {
   "codemirror_mode": {
    "name": "ipython",
    "version": 3
   },
   "file_extension": ".py",
   "mimetype": "text/x-python",
   "name": "python",
   "nbconvert_exporter": "python",
   "pygments_lexer": "ipython3",
   "version": "3.8.12"
  }
 },
 "nbformat": 4,
 "nbformat_minor": 5
}
