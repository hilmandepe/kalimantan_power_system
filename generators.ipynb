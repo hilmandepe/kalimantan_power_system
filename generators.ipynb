{
 "cells": [
  {
   "cell_type": "code",
   "execution_count": null,
   "id": "5d94e03f",
   "metadata": {},
   "outputs": [],
   "source": [
    "import pypsa\n",
    "import pandas as pd\n",
    "import numpy as np\n",
    "import os\n",
    "import matplotlib.pyplot as plt\n",
    "import folium\n",
    "import math\n",
    "import networkx as nx"
   ]
  },
  {
   "cell_type": "code",
   "execution_count": null,
   "id": "dc894f69",
   "metadata": {
    "scrolled": true
   },
   "outputs": [],
   "source": [
    "network_nodes = pd.read_csv('database/plotting_generators_substation.csv', sep = \",\", quotechar = \"'\")\n",
    "\n",
    "network_nodes"
   ]
  },
  {
   "cell_type": "code",
   "execution_count": null,
   "id": "f0e8baf0",
   "metadata": {},
   "outputs": [],
   "source": [
    "basemap = folium.Map(location = [-0.152375, 113.899132], zoom_start = 6)\n",
    "\n",
    "maxcapacity = max(network_nodes.p_nom)\n",
    "\n",
    "for i in range(len(network_nodes)):\n",
    "    popupinfo = (network_nodes.node.iloc[i]+ \",p_nom:\" + str(network_nodes.p_nom.iloc[i]))\n",
    "    folium.CircleMarker(location = [network_nodes.lat.iloc[i], network_nodes.lon.iloc[i]], \n",
    "                       tooltip = popupinfo, color = \"green\", fill = True, \n",
    "                       radius = math.sqrt(50 * network_nodes.p_nom.iloc[i] / maxcapacity)).add_to(basemap)\n",
    "    \n",
    "basemap.save(\"initial_nodes.html\")\n",
    "\n",
    "display(basemap)"
   ]
  },
  {
   "cell_type": "code",
   "execution_count": null,
   "id": "90159400",
   "metadata": {
    "scrolled": false
   },
   "outputs": [],
   "source": [
    "network_edges = pd.read_csv('database/plotting_edges_generators_edit.csv', sep = \",\", quotechar = \"'\")\n",
    "\n",
    "network_edges"
   ]
  },
  {
   "cell_type": "code",
   "execution_count": null,
   "id": "76b6abc1",
   "metadata": {
    "scrolled": true
   },
   "outputs": [],
   "source": [
    "basemap = folium.Map(location = [-0.152375, 113.899132], zoom_start = 6)\n",
    "\n",
    "maxcapacity = max(network_nodes.p_nom)\n",
    "\n",
    "for i in range(len(network_nodes)):\n",
    "    popupinfo = (network_nodes.node.iloc[i]+ \",p_nom:\" + str(network_nodes.p_nom.iloc[i]))\n",
    "    folium.CircleMarker(location = [network_nodes.lat.iloc[i], network_nodes.lon.iloc[i]], \n",
    "                       tooltip = popupinfo, color = \"green\", fill = True, \n",
    "                       radius = math.sqrt(20 * network_nodes.p_nom.iloc[i] / maxcapacity)).add_to(basemap)\n",
    "\n",
    "for i in range(len(network_edges)):\n",
    "    points = [[network_edges.lat0.iloc[i], network_edges.lon0.iloc[i]],\n",
    "             [network_edges.lat1.iloc[i], network_edges.lon1.iloc[i]]]\n",
    "    folium.PolyLine(points, color = \"yellow\", opacitiy = 0.7).add_to(basemap)\n",
    "    \n",
    "basemap.save(\"initial_network.html\")\n",
    "\n",
    "display(basemap)"
   ]
  },
  {
   "cell_type": "code",
   "execution_count": null,
   "id": "f3bc61b1",
   "metadata": {
    "scrolled": false
   },
   "outputs": [],
   "source": [
    "nodes_network = pd.read_csv('database/GENERATORS_01.csv', sep = \",\", quotechar = \"'\")\n",
    "\n",
    "nodes_network"
   ]
  },
  {
   "cell_type": "code",
   "execution_count": null,
   "id": "fc2299db",
   "metadata": {
    "scrolled": false
   },
   "outputs": [],
   "source": [
    "network = pd.read_csv('database/plotting_edges_generators.csv')\n",
    "\n",
    "network"
   ]
  },
  {
   "cell_type": "code",
   "execution_count": null,
   "id": "1406cd7e",
   "metadata": {},
   "outputs": [],
   "source": [
    "kalimantan_network = nx.from_pandas_edgelist(network, 'node0', 'node1', ['length_m'], create_using = nx.Graph)"
   ]
  },
  {
   "cell_type": "code",
   "execution_count": null,
   "id": "46cbf419",
   "metadata": {},
   "outputs": [],
   "source": [
    "nx.draw_networkx(kalimantan_network, with_labels = False)"
   ]
  },
  {
   "cell_type": "code",
   "execution_count": null,
   "id": "dacc845d",
   "metadata": {},
   "outputs": [],
   "source": [
    "print(len(kalimantan_network.nodes))\n",
    "kalimantan_network.nodes()"
   ]
  },
  {
   "cell_type": "code",
   "execution_count": null,
   "id": "2c17035c",
   "metadata": {},
   "outputs": [],
   "source": [
    "for index, row in network.iterrows():\n",
    "    kalimantan_network.nodes[row['node0']]['coords'] = row['lon0'],row['lat0']\n",
    "    kalimantan_network.nodes[row['node1']]['coords'] = row['lon1'],row['lat1']\n",
    "    kalimantan_network.nodes[row['node0']]['type'] = row['type']\n",
    "    kalimantan_network.nodes[row['node1']]['type'] = row['type']"
   ]
  },
  {
   "cell_type": "code",
   "execution_count": null,
   "id": "9263e870",
   "metadata": {},
   "outputs": [],
   "source": [
    "print(len(kalimantan_network.nodes))\n",
    "print(kalimantan_network.nodes(data = True))"
   ]
  },
  {
   "cell_type": "code",
   "execution_count": null,
   "id": "bdc184a6",
   "metadata": {},
   "outputs": [],
   "source": [
    "nx.get_node_attributes(kalimantan_network, 'coords')"
   ]
  },
  {
   "cell_type": "code",
   "execution_count": null,
   "id": "9b2d34cd",
   "metadata": {
    "scrolled": true
   },
   "outputs": [],
   "source": [
    "nx.draw(kalimantan_network, nx.get_node_attributes(kalimantan_network, 'coords'), with_labels = False, node_size = 1)"
   ]
  },
  {
   "cell_type": "code",
   "execution_count": null,
   "id": "965f68d3",
   "metadata": {},
   "outputs": [],
   "source": [
    "nx.get_node_attributes(kalimantan_network, 'type')"
   ]
  },
  {
   "cell_type": "code",
   "execution_count": null,
   "id": "0a8cff7a",
   "metadata": {},
   "outputs": [],
   "source": [
    "color_type_map = {'substation': 'r', 'generator': 'b'}"
   ]
  },
  {
   "cell_type": "code",
   "execution_count": null,
   "id": "1c52c6ef",
   "metadata": {},
   "outputs": [],
   "source": [
    "nx.draw(kalimantan_network, nx.get_node_attributes(kalimantan_network, 'coords'),\n",
    "        node_color = [color_type_map[node[1]['type']]\n",
    "                      for node in kalimantan_network.nodes(data=True)], with_labels = False, node_size = 10)"
   ]
  },
  {
   "cell_type": "code",
   "execution_count": null,
   "id": "295f42f9",
   "metadata": {},
   "outputs": [],
   "source": [
    "def substation_nodes(kalimantan_network, type, substation):\n",
    "\n",
    "    result = []\n",
    "\n",
    "    d = nx.get_node_attributes(kalimantan_network, type)\n",
    "\n",
    "    for key, v in d.items():\n",
    "        if(v == substation):\n",
    "            result.append(key)\n",
    "\n",
    "    return result"
   ]
  },
  {
   "cell_type": "code",
   "execution_count": null,
   "id": "85ef70b0",
   "metadata": {
    "scrolled": false
   },
   "outputs": [],
   "source": [
    "print(substation_nodes(kalimantan_network, 'type', 'substation'))"
   ]
  },
  {
   "cell_type": "code",
   "execution_count": null,
   "id": "10995e32",
   "metadata": {},
   "outputs": [],
   "source": [
    "from itertools import product"
   ]
  },
  {
   "cell_type": "code",
   "execution_count": null,
   "id": "f1622620",
   "metadata": {},
   "outputs": [],
   "source": [
    "def generator_nodes(kalimantan_network, type, generator):\n",
    "\n",
    "    result = []\n",
    "\n",
    "    d = nx.get_node_attributes(kalimantan_network, type)\n",
    "\n",
    "    for key, v in d.items():\n",
    "        if(v == generator):\n",
    "            result.append(key)\n",
    "\n",
    "    return result"
   ]
  },
  {
   "cell_type": "code",
   "execution_count": null,
   "id": "77b07e7c",
   "metadata": {
    "scrolled": false
   },
   "outputs": [],
   "source": [
    "print(generator_nodes(kalimantan_network, 'type', 'generator'))"
   ]
  },
  {
   "cell_type": "code",
   "execution_count": null,
   "id": "beb32b54",
   "metadata": {
    "scrolled": false
   },
   "outputs": [],
   "source": [
    "nx.voronoi_cells(kalimantan_network, substation_nodes(kalimantan_network, 'type', 'substation'))"
   ]
  },
  {
   "cell_type": "code",
   "execution_count": null,
   "id": "819682b9",
   "metadata": {},
   "outputs": [],
   "source": []
  }
 ],
 "metadata": {
  "kernelspec": {
   "display_name": "Python 3 (ipykernel)",
   "language": "python",
   "name": "python3"
  },
  "language_info": {
   "codemirror_mode": {
    "name": "ipython",
    "version": 3
   },
   "file_extension": ".py",
   "mimetype": "text/x-python",
   "name": "python",
   "nbconvert_exporter": "python",
   "pygments_lexer": "ipython3",
   "version": "3.8.12"
  }
 },
 "nbformat": 4,
 "nbformat_minor": 5
}
